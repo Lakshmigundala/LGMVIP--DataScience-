{
  "nbformat": 4,
  "nbformat_minor": 0,
  "metadata": {
    "colab": {
      "provenance": [],
      "authorship_tag": "ABX9TyNkQDM9wRjpMuvK33d2759V",
      "include_colab_link": true
    },
    "kernelspec": {
      "name": "python3",
      "display_name": "Python 3"
    },
    "language_info": {
      "name": "python"
    }
  },
  "cells": [
    {
      "cell_type": "markdown",
      "metadata": {
        "id": "view-in-github",
        "colab_type": "text"
      },
      "source": [
        "<a href=\"https://colab.research.google.com/github/Lakshmigundala/LGMVIP--DataScience-/blob/main/Eda_on_terrorisum.ipynb\" target=\"_parent\"><img src=\"https://colab.research.google.com/assets/colab-badge.svg\" alt=\"Open In Colab\"/></a>"
      ]
    },
    {
      "cell_type": "code",
      "execution_count": 1,
      "metadata": {
        "id": "XMJCFdGpipcm"
      },
      "outputs": [],
      "source": [
        "import pandas as pd\n",
        "import numpy as np\n",
        "import matplotlib.pyplot as plt\n",
        "import seaborn as sns\n",
        "%matplotlib inline\n",
        " "
      ]
    },
    {
      "cell_type": "code",
      "source": [
        "data=pd.read_csv('/content/globalterrorismdb_0718dist.csv',encoding=\"windows-1250\")\n",
        "print(data)"
      ],
      "metadata": {
        "colab": {
          "base_uri": "https://localhost:8080/"
        },
        "id": "0b4EfcP5i3U4",
        "outputId": "9a615f79-e9ac-4d52-a86f-1110d406d49d"
      },
      "execution_count": 8,
      "outputs": [
        {
          "output_type": "stream",
          "name": "stdout",
          "text": [
            "            eventid   iyear  imonth  iday approxdate  extended resolution  \\\n",
            "0      197000000001  1970.0     7.0   2.0        NaN       0.0        NaN   \n",
            "1      197000000002  1970.0     0.0   0.0        NaN       0.0        NaN   \n",
            "2      197001000001  1970.0     1.0   0.0        NaN       0.0        NaN   \n",
            "3      197001000002  1970.0     1.0   0.0        NaN       0.0        NaN   \n",
            "4      197001000003  1970.0     1.0   0.0        NaN       0.0        NaN   \n",
            "...             ...     ...     ...   ...        ...       ...        ...   \n",
            "29970  198701150035  1987.0     1.0  15.0        NaN       0.0        NaN   \n",
            "29971  198701150036  1987.0     1.0  15.0        NaN       0.0        NaN   \n",
            "29972  198701160001  1987.0     1.0  16.0        NaN       0.0        NaN   \n",
            "29973  198701160002  1987.0     1.0  16.0        NaN       0.0        NaN   \n",
            "29974           198     NaN     NaN   NaN        NaN       NaN        NaN   \n",
            "\n",
            "       country         country_txt  region  ... addnotes scite1 scite2  \\\n",
            "0         58.0  Dominican Republic     2.0  ...      NaN    NaN    NaN   \n",
            "1        130.0              Mexico     1.0  ...      NaN    NaN    NaN   \n",
            "2        160.0         Philippines     5.0  ...      NaN    NaN    NaN   \n",
            "3         78.0              Greece     8.0  ...      NaN    NaN    NaN   \n",
            "4        101.0               Japan     4.0  ...      NaN    NaN    NaN   \n",
            "...        ...                 ...     ...  ...      ...    ...    ...   \n",
            "29970    160.0         Philippines     5.0  ...      NaN    NaN    NaN   \n",
            "29971    160.0         Philippines     5.0  ...      NaN    NaN    NaN   \n",
            "29972    159.0                Peru     3.0  ...      NaN    NaN    NaN   \n",
            "29973     61.0         El Salvador     2.0  ...      NaN    NaN    NaN   \n",
            "29974      NaN                 NaN     NaN  ...      NaN    NaN    NaN   \n",
            "\n",
            "       scite3  dbsource  INT_LOG  INT_IDEO INT_MISC INT_ANY  \\\n",
            "0         NaN      PGIS      0.0       0.0      0.0     0.0   \n",
            "1         NaN      PGIS      0.0       1.0      1.0     1.0   \n",
            "2         NaN      PGIS     -9.0      -9.0      1.0     1.0   \n",
            "3         NaN      PGIS     -9.0      -9.0      1.0     1.0   \n",
            "4         NaN      PGIS     -9.0      -9.0      1.0     1.0   \n",
            "...       ...       ...      ...       ...      ...     ...   \n",
            "29970     NaN      PGIS      0.0       0.0      0.0     0.0   \n",
            "29971     NaN      PGIS      0.0       0.0      0.0     0.0   \n",
            "29972     NaN      PGIS      0.0       0.0      0.0     0.0   \n",
            "29973     NaN      PGIS      0.0       0.0      0.0     0.0   \n",
            "29974     NaN       NaN      NaN       NaN      NaN     NaN   \n",
            "\n",
            "                                                 related  \n",
            "0                                                    NaN  \n",
            "1                                                    NaN  \n",
            "2                                                    NaN  \n",
            "3                                                    NaN  \n",
            "4                                                    NaN  \n",
            "...                                                  ...  \n",
            "29970  198701150035, 198701150023, 198701150024, 1987...  \n",
            "29971                                                NaN  \n",
            "29972                                                NaN  \n",
            "29973                                                NaN  \n",
            "29974                                                NaN  \n",
            "\n",
            "[29975 rows x 135 columns]\n"
          ]
        },
        {
          "output_type": "stream",
          "name": "stderr",
          "text": [
            "<ipython-input-8-ed702a3c60bd>:1: DtypeWarning: Columns (4,31,33,61,62,76,79,94,96,121) have mixed types. Specify dtype option on import or set low_memory=False.\n",
            "  data=pd.read_csv('/content/globalterrorismdb_0718dist.csv',encoding=\"windows-1250\")\n"
          ]
        }
      ]
    },
    {
      "cell_type": "code",
      "source": [
        "data.head()"
      ],
      "metadata": {
        "colab": {
          "base_uri": "https://localhost:8080/",
          "height": 317
        },
        "id": "qp3YNMTilxwE",
        "outputId": "70f542b5-60a6-4ae9-a949-7438f9eb0b16"
      },
      "execution_count": 9,
      "outputs": [
        {
          "output_type": "execute_result",
          "data": {
            "text/plain": [
              "        eventid   iyear  imonth  iday approxdate  extended resolution  \\\n",
              "0  197000000001  1970.0     7.0   2.0        NaN       0.0        NaN   \n",
              "1  197000000002  1970.0     0.0   0.0        NaN       0.0        NaN   \n",
              "2  197001000001  1970.0     1.0   0.0        NaN       0.0        NaN   \n",
              "3  197001000002  1970.0     1.0   0.0        NaN       0.0        NaN   \n",
              "4  197001000003  1970.0     1.0   0.0        NaN       0.0        NaN   \n",
              "\n",
              "   country         country_txt  region  ... addnotes scite1 scite2  scite3  \\\n",
              "0     58.0  Dominican Republic     2.0  ...      NaN    NaN    NaN     NaN   \n",
              "1    130.0              Mexico     1.0  ...      NaN    NaN    NaN     NaN   \n",
              "2    160.0         Philippines     5.0  ...      NaN    NaN    NaN     NaN   \n",
              "3     78.0              Greece     8.0  ...      NaN    NaN    NaN     NaN   \n",
              "4    101.0               Japan     4.0  ...      NaN    NaN    NaN     NaN   \n",
              "\n",
              "   dbsource  INT_LOG  INT_IDEO INT_MISC INT_ANY  related  \n",
              "0      PGIS      0.0       0.0      0.0     0.0      NaN  \n",
              "1      PGIS      0.0       1.0      1.0     1.0      NaN  \n",
              "2      PGIS     -9.0      -9.0      1.0     1.0      NaN  \n",
              "3      PGIS     -9.0      -9.0      1.0     1.0      NaN  \n",
              "4      PGIS     -9.0      -9.0      1.0     1.0      NaN  \n",
              "\n",
              "[5 rows x 135 columns]"
            ],
            "text/html": [
              "\n",
              "  <div id=\"df-ecc46206-3980-4c66-ac23-fbb8f0b09637\">\n",
              "    <div class=\"colab-df-container\">\n",
              "      <div>\n",
              "<style scoped>\n",
              "    .dataframe tbody tr th:only-of-type {\n",
              "        vertical-align: middle;\n",
              "    }\n",
              "\n",
              "    .dataframe tbody tr th {\n",
              "        vertical-align: top;\n",
              "    }\n",
              "\n",
              "    .dataframe thead th {\n",
              "        text-align: right;\n",
              "    }\n",
              "</style>\n",
              "<table border=\"1\" class=\"dataframe\">\n",
              "  <thead>\n",
              "    <tr style=\"text-align: right;\">\n",
              "      <th></th>\n",
              "      <th>eventid</th>\n",
              "      <th>iyear</th>\n",
              "      <th>imonth</th>\n",
              "      <th>iday</th>\n",
              "      <th>approxdate</th>\n",
              "      <th>extended</th>\n",
              "      <th>resolution</th>\n",
              "      <th>country</th>\n",
              "      <th>country_txt</th>\n",
              "      <th>region</th>\n",
              "      <th>...</th>\n",
              "      <th>addnotes</th>\n",
              "      <th>scite1</th>\n",
              "      <th>scite2</th>\n",
              "      <th>scite3</th>\n",
              "      <th>dbsource</th>\n",
              "      <th>INT_LOG</th>\n",
              "      <th>INT_IDEO</th>\n",
              "      <th>INT_MISC</th>\n",
              "      <th>INT_ANY</th>\n",
              "      <th>related</th>\n",
              "    </tr>\n",
              "  </thead>\n",
              "  <tbody>\n",
              "    <tr>\n",
              "      <th>0</th>\n",
              "      <td>197000000001</td>\n",
              "      <td>1970.0</td>\n",
              "      <td>7.0</td>\n",
              "      <td>2.0</td>\n",
              "      <td>NaN</td>\n",
              "      <td>0.0</td>\n",
              "      <td>NaN</td>\n",
              "      <td>58.0</td>\n",
              "      <td>Dominican Republic</td>\n",
              "      <td>2.0</td>\n",
              "      <td>...</td>\n",
              "      <td>NaN</td>\n",
              "      <td>NaN</td>\n",
              "      <td>NaN</td>\n",
              "      <td>NaN</td>\n",
              "      <td>PGIS</td>\n",
              "      <td>0.0</td>\n",
              "      <td>0.0</td>\n",
              "      <td>0.0</td>\n",
              "      <td>0.0</td>\n",
              "      <td>NaN</td>\n",
              "    </tr>\n",
              "    <tr>\n",
              "      <th>1</th>\n",
              "      <td>197000000002</td>\n",
              "      <td>1970.0</td>\n",
              "      <td>0.0</td>\n",
              "      <td>0.0</td>\n",
              "      <td>NaN</td>\n",
              "      <td>0.0</td>\n",
              "      <td>NaN</td>\n",
              "      <td>130.0</td>\n",
              "      <td>Mexico</td>\n",
              "      <td>1.0</td>\n",
              "      <td>...</td>\n",
              "      <td>NaN</td>\n",
              "      <td>NaN</td>\n",
              "      <td>NaN</td>\n",
              "      <td>NaN</td>\n",
              "      <td>PGIS</td>\n",
              "      <td>0.0</td>\n",
              "      <td>1.0</td>\n",
              "      <td>1.0</td>\n",
              "      <td>1.0</td>\n",
              "      <td>NaN</td>\n",
              "    </tr>\n",
              "    <tr>\n",
              "      <th>2</th>\n",
              "      <td>197001000001</td>\n",
              "      <td>1970.0</td>\n",
              "      <td>1.0</td>\n",
              "      <td>0.0</td>\n",
              "      <td>NaN</td>\n",
              "      <td>0.0</td>\n",
              "      <td>NaN</td>\n",
              "      <td>160.0</td>\n",
              "      <td>Philippines</td>\n",
              "      <td>5.0</td>\n",
              "      <td>...</td>\n",
              "      <td>NaN</td>\n",
              "      <td>NaN</td>\n",
              "      <td>NaN</td>\n",
              "      <td>NaN</td>\n",
              "      <td>PGIS</td>\n",
              "      <td>-9.0</td>\n",
              "      <td>-9.0</td>\n",
              "      <td>1.0</td>\n",
              "      <td>1.0</td>\n",
              "      <td>NaN</td>\n",
              "    </tr>\n",
              "    <tr>\n",
              "      <th>3</th>\n",
              "      <td>197001000002</td>\n",
              "      <td>1970.0</td>\n",
              "      <td>1.0</td>\n",
              "      <td>0.0</td>\n",
              "      <td>NaN</td>\n",
              "      <td>0.0</td>\n",
              "      <td>NaN</td>\n",
              "      <td>78.0</td>\n",
              "      <td>Greece</td>\n",
              "      <td>8.0</td>\n",
              "      <td>...</td>\n",
              "      <td>NaN</td>\n",
              "      <td>NaN</td>\n",
              "      <td>NaN</td>\n",
              "      <td>NaN</td>\n",
              "      <td>PGIS</td>\n",
              "      <td>-9.0</td>\n",
              "      <td>-9.0</td>\n",
              "      <td>1.0</td>\n",
              "      <td>1.0</td>\n",
              "      <td>NaN</td>\n",
              "    </tr>\n",
              "    <tr>\n",
              "      <th>4</th>\n",
              "      <td>197001000003</td>\n",
              "      <td>1970.0</td>\n",
              "      <td>1.0</td>\n",
              "      <td>0.0</td>\n",
              "      <td>NaN</td>\n",
              "      <td>0.0</td>\n",
              "      <td>NaN</td>\n",
              "      <td>101.0</td>\n",
              "      <td>Japan</td>\n",
              "      <td>4.0</td>\n",
              "      <td>...</td>\n",
              "      <td>NaN</td>\n",
              "      <td>NaN</td>\n",
              "      <td>NaN</td>\n",
              "      <td>NaN</td>\n",
              "      <td>PGIS</td>\n",
              "      <td>-9.0</td>\n",
              "      <td>-9.0</td>\n",
              "      <td>1.0</td>\n",
              "      <td>1.0</td>\n",
              "      <td>NaN</td>\n",
              "    </tr>\n",
              "  </tbody>\n",
              "</table>\n",
              "<p>5 rows × 135 columns</p>\n",
              "</div>\n",
              "      <button class=\"colab-df-convert\" onclick=\"convertToInteractive('df-ecc46206-3980-4c66-ac23-fbb8f0b09637')\"\n",
              "              title=\"Convert this dataframe to an interactive table.\"\n",
              "              style=\"display:none;\">\n",
              "        \n",
              "  <svg xmlns=\"http://www.w3.org/2000/svg\" height=\"24px\"viewBox=\"0 0 24 24\"\n",
              "       width=\"24px\">\n",
              "    <path d=\"M0 0h24v24H0V0z\" fill=\"none\"/>\n",
              "    <path d=\"M18.56 5.44l.94 2.06.94-2.06 2.06-.94-2.06-.94-.94-2.06-.94 2.06-2.06.94zm-11 1L8.5 8.5l.94-2.06 2.06-.94-2.06-.94L8.5 2.5l-.94 2.06-2.06.94zm10 10l.94 2.06.94-2.06 2.06-.94-2.06-.94-.94-2.06-.94 2.06-2.06.94z\"/><path d=\"M17.41 7.96l-1.37-1.37c-.4-.4-.92-.59-1.43-.59-.52 0-1.04.2-1.43.59L10.3 9.45l-7.72 7.72c-.78.78-.78 2.05 0 2.83L4 21.41c.39.39.9.59 1.41.59.51 0 1.02-.2 1.41-.59l7.78-7.78 2.81-2.81c.8-.78.8-2.07 0-2.86zM5.41 20L4 18.59l7.72-7.72 1.47 1.35L5.41 20z\"/>\n",
              "  </svg>\n",
              "      </button>\n",
              "      \n",
              "  <style>\n",
              "    .colab-df-container {\n",
              "      display:flex;\n",
              "      flex-wrap:wrap;\n",
              "      gap: 12px;\n",
              "    }\n",
              "\n",
              "    .colab-df-convert {\n",
              "      background-color: #E8F0FE;\n",
              "      border: none;\n",
              "      border-radius: 50%;\n",
              "      cursor: pointer;\n",
              "      display: none;\n",
              "      fill: #1967D2;\n",
              "      height: 32px;\n",
              "      padding: 0 0 0 0;\n",
              "      width: 32px;\n",
              "    }\n",
              "\n",
              "    .colab-df-convert:hover {\n",
              "      background-color: #E2EBFA;\n",
              "      box-shadow: 0px 1px 2px rgba(60, 64, 67, 0.3), 0px 1px 3px 1px rgba(60, 64, 67, 0.15);\n",
              "      fill: #174EA6;\n",
              "    }\n",
              "\n",
              "    [theme=dark] .colab-df-convert {\n",
              "      background-color: #3B4455;\n",
              "      fill: #D2E3FC;\n",
              "    }\n",
              "\n",
              "    [theme=dark] .colab-df-convert:hover {\n",
              "      background-color: #434B5C;\n",
              "      box-shadow: 0px 1px 3px 1px rgba(0, 0, 0, 0.15);\n",
              "      filter: drop-shadow(0px 1px 2px rgba(0, 0, 0, 0.3));\n",
              "      fill: #FFFFFF;\n",
              "    }\n",
              "  </style>\n",
              "\n",
              "      <script>\n",
              "        const buttonEl =\n",
              "          document.querySelector('#df-ecc46206-3980-4c66-ac23-fbb8f0b09637 button.colab-df-convert');\n",
              "        buttonEl.style.display =\n",
              "          google.colab.kernel.accessAllowed ? 'block' : 'none';\n",
              "\n",
              "        async function convertToInteractive(key) {\n",
              "          const element = document.querySelector('#df-ecc46206-3980-4c66-ac23-fbb8f0b09637');\n",
              "          const dataTable =\n",
              "            await google.colab.kernel.invokeFunction('convertToInteractive',\n",
              "                                                     [key], {});\n",
              "          if (!dataTable) return;\n",
              "\n",
              "          const docLinkHtml = 'Like what you see? Visit the ' +\n",
              "            '<a target=\"_blank\" href=https://colab.research.google.com/notebooks/data_table.ipynb>data table notebook</a>'\n",
              "            + ' to learn more about interactive tables.';\n",
              "          element.innerHTML = '';\n",
              "          dataTable['output_type'] = 'display_data';\n",
              "          await google.colab.output.renderOutput(dataTable, element);\n",
              "          const docLink = document.createElement('div');\n",
              "          docLink.innerHTML = docLinkHtml;\n",
              "          element.appendChild(docLink);\n",
              "        }\n",
              "      </script>\n",
              "    </div>\n",
              "  </div>\n",
              "  "
            ]
          },
          "metadata": {},
          "execution_count": 9
        }
      ]
    },
    {
      "cell_type": "code",
      "source": [
        "data.info\n"
      ],
      "metadata": {
        "colab": {
          "base_uri": "https://localhost:8080/"
        },
        "id": "2-P6wayYujlD",
        "outputId": "3d0c65d8-5eee-4c2c-d13e-79d65f04982d"
      },
      "execution_count": 10,
      "outputs": [
        {
          "output_type": "execute_result",
          "data": {
            "text/plain": [
              "<bound method DataFrame.info of             eventid   iyear  imonth  iday approxdate  extended resolution  \\\n",
              "0      197000000001  1970.0     7.0   2.0        NaN       0.0        NaN   \n",
              "1      197000000002  1970.0     0.0   0.0        NaN       0.0        NaN   \n",
              "2      197001000001  1970.0     1.0   0.0        NaN       0.0        NaN   \n",
              "3      197001000002  1970.0     1.0   0.0        NaN       0.0        NaN   \n",
              "4      197001000003  1970.0     1.0   0.0        NaN       0.0        NaN   \n",
              "...             ...     ...     ...   ...        ...       ...        ...   \n",
              "29970  198701150035  1987.0     1.0  15.0        NaN       0.0        NaN   \n",
              "29971  198701150036  1987.0     1.0  15.0        NaN       0.0        NaN   \n",
              "29972  198701160001  1987.0     1.0  16.0        NaN       0.0        NaN   \n",
              "29973  198701160002  1987.0     1.0  16.0        NaN       0.0        NaN   \n",
              "29974           198     NaN     NaN   NaN        NaN       NaN        NaN   \n",
              "\n",
              "       country         country_txt  region  ... addnotes scite1 scite2  \\\n",
              "0         58.0  Dominican Republic     2.0  ...      NaN    NaN    NaN   \n",
              "1        130.0              Mexico     1.0  ...      NaN    NaN    NaN   \n",
              "2        160.0         Philippines     5.0  ...      NaN    NaN    NaN   \n",
              "3         78.0              Greece     8.0  ...      NaN    NaN    NaN   \n",
              "4        101.0               Japan     4.0  ...      NaN    NaN    NaN   \n",
              "...        ...                 ...     ...  ...      ...    ...    ...   \n",
              "29970    160.0         Philippines     5.0  ...      NaN    NaN    NaN   \n",
              "29971    160.0         Philippines     5.0  ...      NaN    NaN    NaN   \n",
              "29972    159.0                Peru     3.0  ...      NaN    NaN    NaN   \n",
              "29973     61.0         El Salvador     2.0  ...      NaN    NaN    NaN   \n",
              "29974      NaN                 NaN     NaN  ...      NaN    NaN    NaN   \n",
              "\n",
              "       scite3  dbsource  INT_LOG  INT_IDEO INT_MISC INT_ANY  \\\n",
              "0         NaN      PGIS      0.0       0.0      0.0     0.0   \n",
              "1         NaN      PGIS      0.0       1.0      1.0     1.0   \n",
              "2         NaN      PGIS     -9.0      -9.0      1.0     1.0   \n",
              "3         NaN      PGIS     -9.0      -9.0      1.0     1.0   \n",
              "4         NaN      PGIS     -9.0      -9.0      1.0     1.0   \n",
              "...       ...       ...      ...       ...      ...     ...   \n",
              "29970     NaN      PGIS      0.0       0.0      0.0     0.0   \n",
              "29971     NaN      PGIS      0.0       0.0      0.0     0.0   \n",
              "29972     NaN      PGIS      0.0       0.0      0.0     0.0   \n",
              "29973     NaN      PGIS      0.0       0.0      0.0     0.0   \n",
              "29974     NaN       NaN      NaN       NaN      NaN     NaN   \n",
              "\n",
              "                                                 related  \n",
              "0                                                    NaN  \n",
              "1                                                    NaN  \n",
              "2                                                    NaN  \n",
              "3                                                    NaN  \n",
              "4                                                    NaN  \n",
              "...                                                  ...  \n",
              "29970  198701150035, 198701150023, 198701150024, 1987...  \n",
              "29971                                                NaN  \n",
              "29972                                                NaN  \n",
              "29973                                                NaN  \n",
              "29974                                                NaN  \n",
              "\n",
              "[29975 rows x 135 columns]>"
            ]
          },
          "metadata": {},
          "execution_count": 10
        }
      ]
    },
    {
      "cell_type": "code",
      "source": [
        "data.describe()"
      ],
      "metadata": {
        "colab": {
          "base_uri": "https://localhost:8080/",
          "height": 393
        },
        "id": "mMQceSe2u-WY",
        "outputId": "23fd081f-cfb2-4a39-a4a3-0716d598cbb5"
      },
      "execution_count": 11,
      "outputs": [
        {
          "output_type": "execute_result",
          "data": {
            "text/plain": [
              "            eventid         iyear        imonth          iday      extended  \\\n",
              "count  2.997500e+04  29974.000000  29974.000000  29974.000000  29974.000000   \n",
              "mean   1.980791e+11   1980.792086      6.350404     15.175952      0.016614   \n",
              "std    1.214180e+09      4.065549      3.398355      8.881986      0.127824   \n",
              "min    1.980000e+02   1970.000000      0.000000      0.000000      0.000000   \n",
              "25%    1.979013e+11   1979.000000      3.000000      8.000000      0.000000   \n",
              "50%    1.981121e+11   1981.000000      6.000000     15.000000      0.000000   \n",
              "75%    1.984071e+11   1984.000000      9.000000     23.000000      0.000000   \n",
              "max    1.987012e+11   1987.000000     12.000000     31.000000      1.000000   \n",
              "\n",
              "            country        region      latitude     longitude   specificity  \\\n",
              "count  29974.000000  29974.000000  28397.000000  2.839700e+04  29974.000000   \n",
              "mean     160.690498      5.141222     19.813379 -3.067458e+03      1.385734   \n",
              "std      149.993758      3.231156     25.440026  5.114460e+05      1.076467   \n",
              "min        4.000000      1.000000    -53.154613 -8.618590e+07      1.000000   \n",
              "25%       61.000000      2.000000      6.313712 -8.304792e+01      1.000000   \n",
              "50%      110.000000      3.000000     15.030000 -6.606113e+01      1.000000   \n",
              "75%      185.000000      8.000000     41.733244  9.174508e+00      1.000000   \n",
              "max      605.000000     12.000000     64.837778  1.747763e+02      5.000000   \n",
              "\n",
              "       ...     ransomamt  ransomamtus    ransompaid  ransompaidus  \\\n",
              "count  ...  4.970000e+02          1.0  1.090000e+02           2.0   \n",
              "mean   ...  3.490094e+06      20000.0  1.119712e+06           0.0   \n",
              "std    ...  4.525213e+07          NaN  4.386958e+06           0.0   \n",
              "min    ...  0.000000e+00      20000.0  0.000000e+00           0.0   \n",
              "25%    ...  0.000000e+00      20000.0  0.000000e+00           0.0   \n",
              "50%    ...  0.000000e+00      20000.0  3.850000e+04           0.0   \n",
              "75%    ...  4.500000e+05      20000.0  5.000000e+05           0.0   \n",
              "max    ...  1.000000e+09      20000.0  4.100000e+07           0.0   \n",
              "\n",
              "       hostkidoutcome   nreleased       INT_LOG      INT_IDEO      INT_MISC  \\\n",
              "count      852.000000  644.000000  29974.000000  29974.000000  29974.000000   \n",
              "mean         2.954225   10.520186     -3.280943     -3.235337      0.181290   \n",
              "std          1.362247   35.931219      4.422357      4.477072      0.764082   \n",
              "min          2.000000  -99.000000     -9.000000     -9.000000     -9.000000   \n",
              "25%          2.000000    1.000000     -9.000000     -9.000000      0.000000   \n",
              "50%          2.000000    1.000000      0.000000      0.000000      0.000000   \n",
              "75%          4.000000    3.000000      0.000000      0.000000      0.000000   \n",
              "max          7.000000  390.000000      1.000000      1.000000      1.000000   \n",
              "\n",
              "            INT_ANY  \n",
              "count  29974.000000  \n",
              "mean      -2.434877  \n",
              "std        4.371263  \n",
              "min       -9.000000  \n",
              "25%       -9.000000  \n",
              "50%        0.000000  \n",
              "75%        1.000000  \n",
              "max        1.000000  \n",
              "\n",
              "[8 rows x 78 columns]"
            ],
            "text/html": [
              "\n",
              "  <div id=\"df-3feb6fc7-a681-433a-89d0-a3fca2cf7cce\">\n",
              "    <div class=\"colab-df-container\">\n",
              "      <div>\n",
              "<style scoped>\n",
              "    .dataframe tbody tr th:only-of-type {\n",
              "        vertical-align: middle;\n",
              "    }\n",
              "\n",
              "    .dataframe tbody tr th {\n",
              "        vertical-align: top;\n",
              "    }\n",
              "\n",
              "    .dataframe thead th {\n",
              "        text-align: right;\n",
              "    }\n",
              "</style>\n",
              "<table border=\"1\" class=\"dataframe\">\n",
              "  <thead>\n",
              "    <tr style=\"text-align: right;\">\n",
              "      <th></th>\n",
              "      <th>eventid</th>\n",
              "      <th>iyear</th>\n",
              "      <th>imonth</th>\n",
              "      <th>iday</th>\n",
              "      <th>extended</th>\n",
              "      <th>country</th>\n",
              "      <th>region</th>\n",
              "      <th>latitude</th>\n",
              "      <th>longitude</th>\n",
              "      <th>specificity</th>\n",
              "      <th>...</th>\n",
              "      <th>ransomamt</th>\n",
              "      <th>ransomamtus</th>\n",
              "      <th>ransompaid</th>\n",
              "      <th>ransompaidus</th>\n",
              "      <th>hostkidoutcome</th>\n",
              "      <th>nreleased</th>\n",
              "      <th>INT_LOG</th>\n",
              "      <th>INT_IDEO</th>\n",
              "      <th>INT_MISC</th>\n",
              "      <th>INT_ANY</th>\n",
              "    </tr>\n",
              "  </thead>\n",
              "  <tbody>\n",
              "    <tr>\n",
              "      <th>count</th>\n",
              "      <td>2.997500e+04</td>\n",
              "      <td>29974.000000</td>\n",
              "      <td>29974.000000</td>\n",
              "      <td>29974.000000</td>\n",
              "      <td>29974.000000</td>\n",
              "      <td>29974.000000</td>\n",
              "      <td>29974.000000</td>\n",
              "      <td>28397.000000</td>\n",
              "      <td>2.839700e+04</td>\n",
              "      <td>29974.000000</td>\n",
              "      <td>...</td>\n",
              "      <td>4.970000e+02</td>\n",
              "      <td>1.0</td>\n",
              "      <td>1.090000e+02</td>\n",
              "      <td>2.0</td>\n",
              "      <td>852.000000</td>\n",
              "      <td>644.000000</td>\n",
              "      <td>29974.000000</td>\n",
              "      <td>29974.000000</td>\n",
              "      <td>29974.000000</td>\n",
              "      <td>29974.000000</td>\n",
              "    </tr>\n",
              "    <tr>\n",
              "      <th>mean</th>\n",
              "      <td>1.980791e+11</td>\n",
              "      <td>1980.792086</td>\n",
              "      <td>6.350404</td>\n",
              "      <td>15.175952</td>\n",
              "      <td>0.016614</td>\n",
              "      <td>160.690498</td>\n",
              "      <td>5.141222</td>\n",
              "      <td>19.813379</td>\n",
              "      <td>-3.067458e+03</td>\n",
              "      <td>1.385734</td>\n",
              "      <td>...</td>\n",
              "      <td>3.490094e+06</td>\n",
              "      <td>20000.0</td>\n",
              "      <td>1.119712e+06</td>\n",
              "      <td>0.0</td>\n",
              "      <td>2.954225</td>\n",
              "      <td>10.520186</td>\n",
              "      <td>-3.280943</td>\n",
              "      <td>-3.235337</td>\n",
              "      <td>0.181290</td>\n",
              "      <td>-2.434877</td>\n",
              "    </tr>\n",
              "    <tr>\n",
              "      <th>std</th>\n",
              "      <td>1.214180e+09</td>\n",
              "      <td>4.065549</td>\n",
              "      <td>3.398355</td>\n",
              "      <td>8.881986</td>\n",
              "      <td>0.127824</td>\n",
              "      <td>149.993758</td>\n",
              "      <td>3.231156</td>\n",
              "      <td>25.440026</td>\n",
              "      <td>5.114460e+05</td>\n",
              "      <td>1.076467</td>\n",
              "      <td>...</td>\n",
              "      <td>4.525213e+07</td>\n",
              "      <td>NaN</td>\n",
              "      <td>4.386958e+06</td>\n",
              "      <td>0.0</td>\n",
              "      <td>1.362247</td>\n",
              "      <td>35.931219</td>\n",
              "      <td>4.422357</td>\n",
              "      <td>4.477072</td>\n",
              "      <td>0.764082</td>\n",
              "      <td>4.371263</td>\n",
              "    </tr>\n",
              "    <tr>\n",
              "      <th>min</th>\n",
              "      <td>1.980000e+02</td>\n",
              "      <td>1970.000000</td>\n",
              "      <td>0.000000</td>\n",
              "      <td>0.000000</td>\n",
              "      <td>0.000000</td>\n",
              "      <td>4.000000</td>\n",
              "      <td>1.000000</td>\n",
              "      <td>-53.154613</td>\n",
              "      <td>-8.618590e+07</td>\n",
              "      <td>1.000000</td>\n",
              "      <td>...</td>\n",
              "      <td>0.000000e+00</td>\n",
              "      <td>20000.0</td>\n",
              "      <td>0.000000e+00</td>\n",
              "      <td>0.0</td>\n",
              "      <td>2.000000</td>\n",
              "      <td>-99.000000</td>\n",
              "      <td>-9.000000</td>\n",
              "      <td>-9.000000</td>\n",
              "      <td>-9.000000</td>\n",
              "      <td>-9.000000</td>\n",
              "    </tr>\n",
              "    <tr>\n",
              "      <th>25%</th>\n",
              "      <td>1.979013e+11</td>\n",
              "      <td>1979.000000</td>\n",
              "      <td>3.000000</td>\n",
              "      <td>8.000000</td>\n",
              "      <td>0.000000</td>\n",
              "      <td>61.000000</td>\n",
              "      <td>2.000000</td>\n",
              "      <td>6.313712</td>\n",
              "      <td>-8.304792e+01</td>\n",
              "      <td>1.000000</td>\n",
              "      <td>...</td>\n",
              "      <td>0.000000e+00</td>\n",
              "      <td>20000.0</td>\n",
              "      <td>0.000000e+00</td>\n",
              "      <td>0.0</td>\n",
              "      <td>2.000000</td>\n",
              "      <td>1.000000</td>\n",
              "      <td>-9.000000</td>\n",
              "      <td>-9.000000</td>\n",
              "      <td>0.000000</td>\n",
              "      <td>-9.000000</td>\n",
              "    </tr>\n",
              "    <tr>\n",
              "      <th>50%</th>\n",
              "      <td>1.981121e+11</td>\n",
              "      <td>1981.000000</td>\n",
              "      <td>6.000000</td>\n",
              "      <td>15.000000</td>\n",
              "      <td>0.000000</td>\n",
              "      <td>110.000000</td>\n",
              "      <td>3.000000</td>\n",
              "      <td>15.030000</td>\n",
              "      <td>-6.606113e+01</td>\n",
              "      <td>1.000000</td>\n",
              "      <td>...</td>\n",
              "      <td>0.000000e+00</td>\n",
              "      <td>20000.0</td>\n",
              "      <td>3.850000e+04</td>\n",
              "      <td>0.0</td>\n",
              "      <td>2.000000</td>\n",
              "      <td>1.000000</td>\n",
              "      <td>0.000000</td>\n",
              "      <td>0.000000</td>\n",
              "      <td>0.000000</td>\n",
              "      <td>0.000000</td>\n",
              "    </tr>\n",
              "    <tr>\n",
              "      <th>75%</th>\n",
              "      <td>1.984071e+11</td>\n",
              "      <td>1984.000000</td>\n",
              "      <td>9.000000</td>\n",
              "      <td>23.000000</td>\n",
              "      <td>0.000000</td>\n",
              "      <td>185.000000</td>\n",
              "      <td>8.000000</td>\n",
              "      <td>41.733244</td>\n",
              "      <td>9.174508e+00</td>\n",
              "      <td>1.000000</td>\n",
              "      <td>...</td>\n",
              "      <td>4.500000e+05</td>\n",
              "      <td>20000.0</td>\n",
              "      <td>5.000000e+05</td>\n",
              "      <td>0.0</td>\n",
              "      <td>4.000000</td>\n",
              "      <td>3.000000</td>\n",
              "      <td>0.000000</td>\n",
              "      <td>0.000000</td>\n",
              "      <td>0.000000</td>\n",
              "      <td>1.000000</td>\n",
              "    </tr>\n",
              "    <tr>\n",
              "      <th>max</th>\n",
              "      <td>1.987012e+11</td>\n",
              "      <td>1987.000000</td>\n",
              "      <td>12.000000</td>\n",
              "      <td>31.000000</td>\n",
              "      <td>1.000000</td>\n",
              "      <td>605.000000</td>\n",
              "      <td>12.000000</td>\n",
              "      <td>64.837778</td>\n",
              "      <td>1.747763e+02</td>\n",
              "      <td>5.000000</td>\n",
              "      <td>...</td>\n",
              "      <td>1.000000e+09</td>\n",
              "      <td>20000.0</td>\n",
              "      <td>4.100000e+07</td>\n",
              "      <td>0.0</td>\n",
              "      <td>7.000000</td>\n",
              "      <td>390.000000</td>\n",
              "      <td>1.000000</td>\n",
              "      <td>1.000000</td>\n",
              "      <td>1.000000</td>\n",
              "      <td>1.000000</td>\n",
              "    </tr>\n",
              "  </tbody>\n",
              "</table>\n",
              "<p>8 rows × 78 columns</p>\n",
              "</div>\n",
              "      <button class=\"colab-df-convert\" onclick=\"convertToInteractive('df-3feb6fc7-a681-433a-89d0-a3fca2cf7cce')\"\n",
              "              title=\"Convert this dataframe to an interactive table.\"\n",
              "              style=\"display:none;\">\n",
              "        \n",
              "  <svg xmlns=\"http://www.w3.org/2000/svg\" height=\"24px\"viewBox=\"0 0 24 24\"\n",
              "       width=\"24px\">\n",
              "    <path d=\"M0 0h24v24H0V0z\" fill=\"none\"/>\n",
              "    <path d=\"M18.56 5.44l.94 2.06.94-2.06 2.06-.94-2.06-.94-.94-2.06-.94 2.06-2.06.94zm-11 1L8.5 8.5l.94-2.06 2.06-.94-2.06-.94L8.5 2.5l-.94 2.06-2.06.94zm10 10l.94 2.06.94-2.06 2.06-.94-2.06-.94-.94-2.06-.94 2.06-2.06.94z\"/><path d=\"M17.41 7.96l-1.37-1.37c-.4-.4-.92-.59-1.43-.59-.52 0-1.04.2-1.43.59L10.3 9.45l-7.72 7.72c-.78.78-.78 2.05 0 2.83L4 21.41c.39.39.9.59 1.41.59.51 0 1.02-.2 1.41-.59l7.78-7.78 2.81-2.81c.8-.78.8-2.07 0-2.86zM5.41 20L4 18.59l7.72-7.72 1.47 1.35L5.41 20z\"/>\n",
              "  </svg>\n",
              "      </button>\n",
              "      \n",
              "  <style>\n",
              "    .colab-df-container {\n",
              "      display:flex;\n",
              "      flex-wrap:wrap;\n",
              "      gap: 12px;\n",
              "    }\n",
              "\n",
              "    .colab-df-convert {\n",
              "      background-color: #E8F0FE;\n",
              "      border: none;\n",
              "      border-radius: 50%;\n",
              "      cursor: pointer;\n",
              "      display: none;\n",
              "      fill: #1967D2;\n",
              "      height: 32px;\n",
              "      padding: 0 0 0 0;\n",
              "      width: 32px;\n",
              "    }\n",
              "\n",
              "    .colab-df-convert:hover {\n",
              "      background-color: #E2EBFA;\n",
              "      box-shadow: 0px 1px 2px rgba(60, 64, 67, 0.3), 0px 1px 3px 1px rgba(60, 64, 67, 0.15);\n",
              "      fill: #174EA6;\n",
              "    }\n",
              "\n",
              "    [theme=dark] .colab-df-convert {\n",
              "      background-color: #3B4455;\n",
              "      fill: #D2E3FC;\n",
              "    }\n",
              "\n",
              "    [theme=dark] .colab-df-convert:hover {\n",
              "      background-color: #434B5C;\n",
              "      box-shadow: 0px 1px 3px 1px rgba(0, 0, 0, 0.15);\n",
              "      filter: drop-shadow(0px 1px 2px rgba(0, 0, 0, 0.3));\n",
              "      fill: #FFFFFF;\n",
              "    }\n",
              "  </style>\n",
              "\n",
              "      <script>\n",
              "        const buttonEl =\n",
              "          document.querySelector('#df-3feb6fc7-a681-433a-89d0-a3fca2cf7cce button.colab-df-convert');\n",
              "        buttonEl.style.display =\n",
              "          google.colab.kernel.accessAllowed ? 'block' : 'none';\n",
              "\n",
              "        async function convertToInteractive(key) {\n",
              "          const element = document.querySelector('#df-3feb6fc7-a681-433a-89d0-a3fca2cf7cce');\n",
              "          const dataTable =\n",
              "            await google.colab.kernel.invokeFunction('convertToInteractive',\n",
              "                                                     [key], {});\n",
              "          if (!dataTable) return;\n",
              "\n",
              "          const docLinkHtml = 'Like what you see? Visit the ' +\n",
              "            '<a target=\"_blank\" href=https://colab.research.google.com/notebooks/data_table.ipynb>data table notebook</a>'\n",
              "            + ' to learn more about interactive tables.';\n",
              "          element.innerHTML = '';\n",
              "          dataTable['output_type'] = 'display_data';\n",
              "          await google.colab.output.renderOutput(dataTable, element);\n",
              "          const docLink = document.createElement('div');\n",
              "          docLink.innerHTML = docLinkHtml;\n",
              "          element.appendChild(docLink);\n",
              "        }\n",
              "      </script>\n",
              "    </div>\n",
              "  </div>\n",
              "  "
            ]
          },
          "metadata": {},
          "execution_count": 11
        }
      ]
    },
    {
      "cell_type": "code",
      "source": [
        "data.isnull().sum()"
      ],
      "metadata": {
        "colab": {
          "base_uri": "https://localhost:8080/"
        },
        "id": "0OZfYZDnvFJu",
        "outputId": "f0ed0fdb-d37d-4932-967a-18b11c026f63"
      },
      "execution_count": 12,
      "outputs": [
        {
          "output_type": "execute_result",
          "data": {
            "text/plain": [
              "eventid           0\n",
              "iyear             1\n",
              "imonth            1\n",
              "iday              1\n",
              "approxdate    29953\n",
              "              ...  \n",
              "INT_LOG           1\n",
              "INT_IDEO          1\n",
              "INT_MISC          1\n",
              "INT_ANY           1\n",
              "related       27771\n",
              "Length: 135, dtype: int64"
            ]
          },
          "metadata": {},
          "execution_count": 12
        }
      ]
    },
    {
      "cell_type": "code",
      "source": [
        "data.columns.nunique()"
      ],
      "metadata": {
        "colab": {
          "base_uri": "https://localhost:8080/"
        },
        "id": "WZrvsolLvQ00",
        "outputId": "75c5091a-7bac-4ec5-fb09-65a6c83331d7"
      },
      "execution_count": 14,
      "outputs": [
        {
          "output_type": "execute_result",
          "data": {
            "text/plain": [
              "135"
            ]
          },
          "metadata": {},
          "execution_count": 14
        }
      ]
    },
    {
      "cell_type": "code",
      "source": [
        "print(data['region'].unique())\n"
      ],
      "metadata": {
        "colab": {
          "base_uri": "https://localhost:8080/"
        },
        "id": "0ZAus5jEvlzz",
        "outputId": "b31420a2-c0b1-45a5-9b35-a6e984d2f778"
      },
      "execution_count": 17,
      "outputs": [
        {
          "output_type": "stream",
          "name": "stdout",
          "text": [
            "[ 2.  1.  5.  8.  4.  3.  9. 11. 10. 12.  6. nan]\n"
          ]
        }
      ]
    },
    {
      "cell_type": "code",
      "source": [
        "data['country'].value_counts().head(10)"
      ],
      "metadata": {
        "colab": {
          "base_uri": "https://localhost:8080/"
        },
        "id": "pXpbJlx9v-xF",
        "outputId": "5d6f07a2-4abd-4f21-ceb2-0f0a1011ac0a"
      },
      "execution_count": 19,
      "outputs": [
        {
          "output_type": "execute_result",
          "data": {
            "text/plain": [
              "61.0     3616\n",
              "159.0    2671\n",
              "603.0    2503\n",
              "45.0     2123\n",
              "217.0    1891\n",
              "185.0    1848\n",
              "145.0    1467\n",
              "83.0     1440\n",
              "43.0     1312\n",
              "98.0     1262\n",
              "Name: country, dtype: int64"
            ]
          },
          "metadata": {},
          "execution_count": 19
        }
      ]
    },
    {
      "cell_type": "code",
      "source": [
        "data['region'].value_counts().head(5)"
      ],
      "metadata": {
        "colab": {
          "base_uri": "https://localhost:8080/"
        },
        "id": "7wNDD_Q7vs-6",
        "outputId": "c512e185-cf77-4b16-d166-b5206bbcb5f0"
      },
      "execution_count": 23,
      "outputs": [
        {
          "output_type": "execute_result",
          "data": {
            "text/plain": [
              "8.0     8127\n",
              "3.0     7067\n",
              "2.0     6856\n",
              "10.0    3065\n",
              "1.0     2046\n",
              "Name: region, dtype: int64"
            ]
          },
          "metadata": {},
          "execution_count": 23
        }
      ]
    },
    {
      "cell_type": "code",
      "source": [
        "sns.countplot(x=data.region);"
      ],
      "metadata": {
        "colab": {
          "base_uri": "https://localhost:8080/",
          "height": 449
        },
        "id": "fJpZm-QEwzVv",
        "outputId": "067025af-0576-4a43-fd4a-d91169500471"
      },
      "execution_count": 24,
      "outputs": [
        {
          "output_type": "display_data",
          "data": {
            "text/plain": [
              "<Figure size 640x480 with 1 Axes>"
            ],
            "image/png": "[encoded data removed]"
          },
          "metadata": {}
        }
      ]
    },
    {
      "cell_type": "code",
      "source": [
        "plt.figure(figsize=(10,5));\n",
        "plt.title('Attacks by latitude')\n",
        "sns.countplot(x=data.latitude\t);\n"
      ],
      "metadata": {
        "colab": {
          "base_uri": "https://localhost:8080/",
          "height": 475
        },
        "id": "JQHxnDX-xkdJ",
        "outputId": "6252b010-0316-4d5b-bd4a-a7778cc35bf2"
      },
      "execution_count": 42,
      "outputs": [
        {
          "output_type": "display_data",
          "data": {
            "text/plain": [
              "<Figure size 1000x500 with 1 Axes>"
            ],
            "image/png": "[encoded data removed]"
          },
          "metadata": {}
        }
      ]
    },
    {
      "cell_type": "code",
      "source": [
        "plt.figure(figsize=(10,5));\n",
        "plt.title('Attacks by longitude')\n",
        "sns.countplot(x=data.longitude);"
      ],
      "metadata": {
        "colab": {
          "base_uri": "https://localhost:8080/",
          "height": 487
        },
        "id": "DTi0U3Ohzv6n",
        "outputId": "d3c99fdc-40f8-4f7a-f00f-f391e70e7449"
      },
      "execution_count": 54,
      "outputs": [
        {
          "output_type": "display_data",
          "data": {
            "text/plain": [
              "<Figure size 1000x500 with 1 Axes>"
            ],
            "image/png": "[encoded data removed]"
          },
          "metadata": {}
        }
      ]
    },
    {
      "cell_type": "code",
      "source": [
        "plt.figure(figsize=(10,5));\n",
        "plt.rcParams.update({'font.size':8});\n",
        "plt.xticks(rotation = 90)\n",
        "plt.title('Attacks by country')\n",
        "sns.countplot(x=data.country);\n"
      ],
      "metadata": {
        "colab": {
          "base_uri": "https://localhost:8080/",
          "height": 497
        },
        "id": "ZBnveOcB0AQa",
        "outputId": "ff0e1a3d-fe43-4a6b-ad60-30d054785f0c"
      },
      "execution_count": 41,
      "outputs": [
        {
          "output_type": "display_data",
          "data": {
            "text/plain": [
              "<Figure size 1000x500 with 1 Axes>"
            ],
            "image/png": "[encoded data removed]"
          },
          "metadata": {}
        }
      ]
    },
    {
      "cell_type": "code",
      "source": [
        "plt.figure(figsize=(10,5));\n",
        "plt.rcParams.update({'font.size':8});\n",
        "plt.xticks(rotation = 90)\n",
        "plt.title('Attacks by Country')\n",
        "sns.barplot(x=data.country);"
      ],
      "metadata": {
        "colab": {
          "base_uri": "https://localhost:8080/",
          "height": 486
        },
        "id": "pBTaNMlT1c7u",
        "outputId": "fff94442-5fbd-4ffc-fe1c-105760892671"
      },
      "execution_count": 52,
      "outputs": [
        {
          "output_type": "display_data",
          "data": {
            "text/plain": [
              "<Figure size 1000x500 with 1 Axes>"
            ],
            "image/png": "[encoded data removed]"
          },
          "metadata": {}
        }
      ]
    },
    {
      "cell_type": "code",
      "source": [
        "plt.figure(figsize=(15,5));\n",
        "plt.rcParams.update({'font.size':10});\n",
        "plt.xticks(rotation = 0)\n",
        "plt.title('Attacks by Region')\n",
        "sns.countplot(x=data.region);\n",
        "\n"
      ],
      "metadata": {
        "colab": {
          "base_uri": "https://localhost:8080/",
          "height": 487
        },
        "id": "I4A8jDdZ3d2y",
        "outputId": "3b8517c7-0efa-4453-8198-a14e2b56adc2"
      },
      "execution_count": 53,
      "outputs": [
        {
          "output_type": "display_data",
          "data": {
            "text/plain": [
              "<Figure size 1500x500 with 1 Axes>"
            ],
            "image/png": "[encoded data removed]"
          },
          "metadata": {}
        }
      ]
    },
    {
      "cell_type": "code",
      "source": [],
      "metadata": {
        "id": "nK2f89k04HBt"
      },
      "execution_count": null,
      "outputs": []
    }
  ]
}